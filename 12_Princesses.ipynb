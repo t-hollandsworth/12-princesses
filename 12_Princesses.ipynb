{
 "cells": [
  {
   "cell_type": "code",
   "execution_count": 1,
   "metadata": {},
   "outputs": [],
   "source": [
    "import nltk\n",
    "from nltk.tokenize import word_tokenize\n",
    "from nltk.tokenize import sent_tokenize\n",
    "from nltk.tokenize import TweetTokenizer\n",
    "from nltk.probability import FreqDist\n",
    "from nltk.corpus import stopwords\n",
    "from nltk.stem import WordNetLemmatizer\n",
    "from nltk.sentiment.vader import SentimentIntensityAnalyzer\n",
    "\n",
    "#this is sample data\n",
    "from nltk.corpus import names  \n",
    "\n",
    "from string import punctuation\n"
   ]
  },
  {
   "cell_type": "code",
   "execution_count": 2,
   "metadata": {},
   "outputs": [],
   "source": [
    "filepath = r\"datasets/12dancingprincesses.txt\"\n",
    "\n",
    "princess_tokens = []\n",
    "\n",
    "with open(filepath, encoding = 'latin-1') as f_obj:\n",
    "    #for every line of text \n",
    "    for line in f_obj: \n",
    "        #get rid of the whitespace\n",
    "        cline = line.strip()\n",
    "        #drop any blank lines \n",
    "        if cline == '': \n",
    "            pass\n",
    "        #if the line is not blank, make it lowercase\n",
    "        else: \n",
    "            cline = cline.lower()\n",
    "            #turn it into a list of words\n",
    "            tknls = word_tokenize(cline)\n",
    "        \n",
    "        # for every item in your list of words \n",
    "        for token in tknls: \n",
    "               #append it to the list of words i created called \"princess_tokens\"\n",
    "                princess_tokens.append(token)\n",
    "                "
   ]
  },
  {
   "cell_type": "code",
   "execution_count": 3,
   "metadata": {},
   "outputs": [
    {
     "data": {
      "text/plain": [
       "['the',\n",
       " 'twelve',\n",
       " 'dancing',\n",
       " 'princesses',\n",
       " 'the',\n",
       " 'twelve',\n",
       " 'dancing',\n",
       " 'princesses',\n",
       " 'there',\n",
       " 'was',\n",
       " 'a',\n",
       " 'king',\n",
       " 'who',\n",
       " 'had',\n",
       " 'twelve',\n",
       " 'beautiful',\n",
       " 'daughters',\n",
       " '.',\n",
       " 'they',\n",
       " 'slept',\n",
       " 'in',\n",
       " 'twelve',\n",
       " 'beds',\n",
       " 'all',\n",
       " 'in']"
      ]
     },
     "execution_count": 3,
     "metadata": {},
     "output_type": "execute_result"
    }
   ],
   "source": [
    "princess_tokens[:25]"
   ]
  },
  {
   "cell_type": "code",
   "execution_count": 4,
   "metadata": {},
   "outputs": [],
   "source": [
    "#remove punctuation \n",
    "for token in princess_tokens: \n",
    "    if token in punctuation: \n",
    "        princess_tokens.remove(token)\n",
    "        "
   ]
  },
  {
   "cell_type": "code",
   "execution_count": 5,
   "metadata": {},
   "outputs": [
    {
     "data": {
      "text/plain": [
       "['the',\n",
       " 'twelve',\n",
       " 'dancing',\n",
       " 'princesses',\n",
       " 'the',\n",
       " 'twelve',\n",
       " 'dancing',\n",
       " 'princesses',\n",
       " 'there',\n",
       " 'was']"
      ]
     },
     "execution_count": 5,
     "metadata": {},
     "output_type": "execute_result"
    }
   ],
   "source": [
    "princess_tokens[:10]"
   ]
  },
  {
   "cell_type": "code",
   "execution_count": 6,
   "metadata": {},
   "outputs": [],
   "source": [
    "#filter the stopwords \n",
    "princess_words = []\n",
    "filler_words = 0\n",
    "\n",
    "eng_stopwords = stopwords.words('english')\n",
    "\n",
    "for token in princess_tokens: \n",
    "    if token not in eng_stopwords: \n",
    "        princess_words.append(token)\n",
    "    else: \n",
    "        filler_words += 1 \n",
    "        "
   ]
  },
  {
   "cell_type": "code",
   "execution_count": 7,
   "metadata": {},
   "outputs": [
    {
     "data": {
      "text/plain": [
       "971"
      ]
     },
     "execution_count": 7,
     "metadata": {},
     "output_type": "execute_result"
    }
   ],
   "source": [
    "filler_words"
   ]
  },
  {
   "cell_type": "code",
   "execution_count": 8,
   "metadata": {},
   "outputs": [
    {
     "data": {
      "text/plain": [
       "741"
      ]
     },
     "execution_count": 8,
     "metadata": {},
     "output_type": "execute_result"
    }
   ],
   "source": [
    "len(princess_words)"
   ]
  },
  {
   "cell_type": "code",
   "execution_count": 9,
   "metadata": {},
   "outputs": [],
   "source": [
    "princess_freq = FreqDist(princess_words)\n",
    "\n",
    "top_10 = princess_freq.most_common(10)"
   ]
  },
  {
   "cell_type": "code",
   "execution_count": 10,
   "metadata": {},
   "outputs": [
    {
     "data": {
      "text/plain": [
       "[('princesses', 19),\n",
       " ('soldier', 19),\n",
       " ('said', 16),\n",
       " ('twelve', 12),\n",
       " ('king', 12),\n",
       " ('went', 11),\n",
       " ('came', 10),\n",
       " ('eldest', 10),\n",
       " ('night', 8),\n",
       " ('happened', 8)]"
      ]
     },
     "execution_count": 10,
     "metadata": {},
     "output_type": "execute_result"
    }
   ],
   "source": [
    "# 10 most frequent non-filler words from the text \n",
    "top_10"
   ]
  },
  {
   "cell_type": "code",
   "execution_count": null,
   "metadata": {},
   "outputs": [],
   "source": []
  }
 ],
 "metadata": {
  "kernelspec": {
   "display_name": "Python 3",
   "language": "python",
   "name": "python3"
  },
  "language_info": {
   "codemirror_mode": {
    "name": "ipython",
    "version": 3
   },
   "file_extension": ".py",
   "mimetype": "text/x-python",
   "name": "python",
   "nbconvert_exporter": "python",
   "pygments_lexer": "ipython3",
   "version": "3.7.3"
  }
 },
 "nbformat": 4,
 "nbformat_minor": 2
}
